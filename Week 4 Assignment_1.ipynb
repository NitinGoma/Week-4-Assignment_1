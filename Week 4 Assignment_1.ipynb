{
 "cells": [
  {
   "cell_type": "markdown",
   "id": "b0f642dc-224f-4408-9784-d3a5a401be8e",
   "metadata": {},
   "source": [
    "Assignment"
   ]
  },
  {
   "cell_type": "markdown",
   "id": "1686abce-619c-48b0-a892-6615a1a2a62c",
   "metadata": {},
   "source": [
    "Q1: Explain Class and Object with respect to Object-Oriented Programming. Give a suitable example."
   ]
  },
  {
   "cell_type": "markdown",
   "id": "c172a7a4-140f-4105-8600-49acc165f8bd",
   "metadata": {},
   "source": [
    "Class:\n",
    "A class in object-oriented programming (OOP) is a blueprint or template for creating objects. It defines the structure and behavior of a specific type of object. A class can contain attributes (also known as member variables), which describe the state of the object, and methods (also known as member functions), which describe the behavior of the object.\n",
    "\n",
    "Object:\n",
    "An object is an instance of a class. It is a self-contained entity that has its own set of attributes and methods. Objects can communicate with each other by sending and receiving messages."
   ]
  },
  {
   "cell_type": "code",
   "execution_count": 1,
   "id": "0b182990-6ba0-428f-87bd-f9e0954bd250",
   "metadata": {},
   "outputs": [],
   "source": [
    "class Car:\n",
    "    def __init__(self, make, model, year):\n",
    "        self.make = make\n",
    "        self.model = model\n",
    "        self.year = year\n",
    "\n",
    "    def drive(self):\n",
    "        print(\"The car is driving.\")\n",
    "\n",
    "    def stop(self):\n",
    "        print(\"The car is stopped.\")"
   ]
  },
  {
   "cell_type": "code",
   "execution_count": 3,
   "id": "9ceb7817-744d-4230-b956-8f15132f221f",
   "metadata": {},
   "outputs": [],
   "source": [
    "# car object\n",
    "my_car = Car(\"Toyota\", \"Camry\", 2023)"
   ]
  },
  {
   "cell_type": "code",
   "execution_count": 5,
   "id": "43c1df52-ffed-4090-8e29-122c73a3e196",
   "metadata": {},
   "outputs": [
    {
     "name": "stdout",
     "output_type": "stream",
     "text": [
      "The car is driving.\n"
     ]
    }
   ],
   "source": [
    "my_car.drive()"
   ]
  },
  {
   "cell_type": "code",
   "execution_count": 6,
   "id": "fba61ccf-ecc3-4f2c-8e85-f8bb65133c8d",
   "metadata": {},
   "outputs": [
    {
     "name": "stdout",
     "output_type": "stream",
     "text": [
      "The car is stopped.\n"
     ]
    }
   ],
   "source": [
    "my_car.stop()"
   ]
  },
  {
   "cell_type": "markdown",
   "id": "7d482100-7fc9-4cdf-a7f3-ba5dcddc1fcc",
   "metadata": {},
   "source": [
    "Q2. Name the four pillars of OOPs."
   ]
  },
  {
   "cell_type": "raw",
   "id": "e54ec571-b35e-40bf-9c4b-3106222012cb",
   "metadata": {},
   "source": [
    "The four pillars of object-oriented programming (OOP) are:\n",
    "\n",
    "Abstraction\n",
    "Encapsulation\n",
    "Inheritance\n",
    "Polymorphism"
   ]
  },
  {
   "cell_type": "markdown",
   "id": "7c8cfda2-b0f2-4d6d-91bc-450ee368fd34",
   "metadata": {},
   "source": [
    "Q3. Explain why the __init__() function is used. Give a suitable example."
   ]
  },
  {
   "cell_type": "code",
   "execution_count": 9,
   "id": "4edf93cb-3222-46d2-85b1-deb23ba823e4",
   "metadata": {},
   "outputs": [],
   "source": [
    "#The __init__() function in Python is used to initialize the attributes of an object when it is created. It is a special method that is called automatically whenever a new object is created from a class.\n",
    "class Car:\n",
    "    def __init__(self, make, model, year):\n",
    "        self.make = make\n",
    "        self.model = model\n",
    "        self.year = year"
   ]
  },
  {
   "cell_type": "markdown",
   "id": "be7c0d5c-8f88-4518-b37f-b6585c3462d3",
   "metadata": {},
   "source": [
    "Q4. Why self is used in OOPs?"
   ]
  },
  {
   "cell_type": "markdown",
   "id": "75d911ef-c911-4550-87c0-7e099a563d75",
   "metadata": {},
   "source": [
    "The self keyword is used in OOPs to refer to the current instance of an object. It is used to access the attributes and methods of the object."
   ]
  },
  {
   "cell_type": "markdown",
   "id": "e81d4a5b-2eed-4941-9be8-038c74bfc454",
   "metadata": {},
   "source": [
    "Q5. What is inheritance? Give an example for each type of inheritance."
   ]
  },
  {
   "cell_type": "markdown",
   "id": "85549bed-cf93-4911-9a44-c3af1367adec",
   "metadata": {},
   "source": [
    "Inheritance in OOPs is a mechanism in which one class acquires the property of another class. It is a way of creating new classes that are specialized versions of existing classes."
   ]
  },
  {
   "cell_type": "code",
   "execution_count": null,
   "id": "c49a17fc-7cd7-4ef8-83de-85f3359977d5",
   "metadata": {},
   "outputs": [],
   "source": []
  }
 ],
 "metadata": {
  "kernelspec": {
   "display_name": "Python 3 (ipykernel)",
   "language": "python",
   "name": "python3"
  },
  "language_info": {
   "codemirror_mode": {
    "name": "ipython",
    "version": 3
   },
   "file_extension": ".py",
   "mimetype": "text/x-python",
   "name": "python",
   "nbconvert_exporter": "python",
   "pygments_lexer": "ipython3",
   "version": "3.10.8"
  }
 },
 "nbformat": 4,
 "nbformat_minor": 5
}
